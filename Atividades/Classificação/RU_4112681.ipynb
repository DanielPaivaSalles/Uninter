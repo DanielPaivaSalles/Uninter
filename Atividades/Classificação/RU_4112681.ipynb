{
  "cells": [
    {
      "cell_type": "code",
      "execution_count": null,
      "metadata": {
        "id": "blWAQ7RRrN5Q"
      },
      "outputs": [],
      "source": [
        "#matplotlib pra gerar o gráfico\n",
        "#pandas pra gerenciar o df\n",
        "import matplotlib.pyplot as plt\n",
        "import pandas as pd\n",
        "\n",
        "#FI é o bias, APRENDIZADO vai ser a taxa de melhoria do neurônio, ATIVACAO é a saida do neurônio\n",
        "#Definição de constantes\n",
        "FI = 1\n",
        "APRENDIZADO = 1\n",
        "ATIVACAO = [-1, 1]\n"
      ]
    },
    {
      "cell_type": "code",
      "execution_count": null,
      "metadata": {
        "id": "-UnTdAtXrNrx"
      },
      "outputs": [],
      "source": [
        "#Series dos dados, com atributos e os calculos deles\n",
        "#ru = ru a ser analisada\n",
        "#saida_d = saida gerada pelo código\n",
        "#resp_f = resposta do neurônio para o atributo usado\n",
        "#obj_o = o objetivo a ser alcançado na saida da resposta\n",
        "#class_atual = a classificação atual que o neurônio colocou o ru\n",
        "#class_alvo = a classificação objetivo que o neurônio deve alcançar\n",
        "#erro = calculo da diferença entre o objetivo e o resultado entre resposta e objetivo\n",
        "#delta = calculo da relação entre  ru, peso e erro\n",
        "\n",
        "ru = pd.Series([0.4112670, 0.4112680, 0.4112681, 0.4112682, 0.4112690])\n",
        "saida_d = pd.Series([None, None, None, None, None])\n",
        "resp_f = pd.Series([None, None, None, None, None])\n",
        "obj_o = pd.Series([-1, -1, 1, 1, 1])\n",
        "class_atual = pd.Series([None, None, None, None, None])\n",
        "class_alvo = pd.Series(['B', 'B', 'A', 'A', 'A'])\n",
        "erro = pd.Series([None, None, None, None, None])\n",
        "delta = pd.Series([None, None, None, None, None])\n",
        "\n",
        "#dataframe com as séries anteriores criadas\n",
        "amostras = pd.DataFrame({'ru':ru, 'saida_d':saida_d, 'resp_f':resp_f, 'obj_o':obj_o, 'class_atual':class_atual, 'class_alvo':class_alvo, 'erro':erro, 'delta':delta})\n"
      ]
    },
    {
      "cell_type": "code",
      "execution_count": null,
      "metadata": {
        "id": "NMPMB4GmrNhQ"
      },
      "outputs": [],
      "source": [
        "#Peso usado para fazer o treino do neurônio. valor inicial padrão 1\n",
        "#peso_mudou vou comparar quando o neurônio já atingiu o treino necessário\n",
        "#soma_delta vai ser usada para pegar o calculo do erro, ru e peso para ser usado no teino do peso\n",
        "#i vai ser usado para varrer o df\n",
        "#Definição de variáveis\n",
        "#peso = 1.0 \n",
        "peso = 2.4315045049087387 #é o peso ideal neste caso\n",
        "peso_mudou = None\n",
        "soma_delta = i = 0\n",
        "\n",
        "\n",
        "#Enquanto o peso treinado for diferente do teste anterior, o treino ainda não atingiu um patamar bom, então vai continuar\n",
        "#INICIO DE PRIMEIRA ITERAÇÃO\n",
        "while (peso != peso_mudou):\n",
        "  #Enquanto existir amostras a serem trabalhadas, vai continuar no laço\n",
        "  while i < len(amostras.index):\n",
        "    #saida_d = (ru*peso)-FI\n",
        "    amostras.loc[i, 'saida_d'] = (amostras.loc[i, 'ru']*peso)-FI\n",
        "    #resp_f = se (saida_d >= 0) então '1', se não, '-1'\n",
        "    if(amostras.loc[i, 'saida_d'] >= 0):\n",
        "      amostras.loc[i, 'resp_f'] = ATIVACAO[1]\n",
        "    else:\n",
        "      amostras.loc[i, 'resp_f'] = ATIVACAO[0]\n",
        "\n",
        "    #obj_o = o que resposta_f tem que ser, serve apenas para comparação\n",
        "\n",
        "    #class_atual = se (resp_f = 1) então 'A', se não, 'B'\n",
        "    if(amostras.loc[i, 'resp_f'] == 1):\n",
        "      amostras.loc[i, 'class_atual'] = \"A\"\n",
        "    else:\n",
        "      amostras.loc[i, 'class_atual'] = \"B\"\n",
        "\n",
        "    #class_alvo = o que class_atual tem que ser, serve apenas para comparação\n",
        "\n",
        "    #erro = obj_o - resp_f\n",
        "    amostras.loc[i, 'erro'] = amostras.loc[i, 'obj_o'] - amostras.loc[i, 'resp_f']\n",
        "\n",
        "    #delta = APRENDIZADO * ru * erro\n",
        "    amostras.loc[i, 'delta'] = APRENDIZADO * amostras.loc[i, 'ru'] * amostras.loc[i, 'erro']\n",
        "    soma_delta += amostras.loc[i, 'delta']\n",
        "    i += 1\n",
        "\n",
        "  #CORREÇÃO DE PESOS\n",
        "  peso_mudou = peso\n",
        "  peso += soma_delta\n",
        "  soma_delta = i = 0\n"
      ]
    },
    {
      "cell_type": "code",
      "execution_count": null,
      "metadata": {
        "id": "Cu-bRVv5-g8w"
      },
      "outputs": [],
      "source": [
        "#Series dos dados, parecido com a serie anterior, mas com os dados para realmente classificar os dados\n",
        "#ru = ru a ser analisada\n",
        "#saida_d = saida gerada pelo código\n",
        "#resp_f = resposta do neurônio para o atributo usado\n",
        "#class_atual = a classificação entre A = 1 e B = -1\n",
        "#faixa_ru = meu ru usado para dividir a classificação\n",
        "ru = pd.Series([0.4112568, 0.4112336, 0.4112565, 0.4112874, 0.4112681])\n",
        "saida_d = pd.Series([None, None, None, None, None])\n",
        "resp_f = pd.Series([None, None, None, None, None])\n",
        "class_atual = pd.Series([None, None, None, None, None])\n",
        "\n",
        "#Dataframe com as séries anteriores\n",
        "teste = pd.DataFrame({'ru':ru, 'saida_d':saida_d, 'resp_f':resp_f, 'class_atual':class_atual})\n"
      ]
    },
    {
      "cell_type": "code",
      "execution_count": null,
      "metadata": {
        "id": "JRpdoff-AUtO"
      },
      "outputs": [],
      "source": [
        "#i vai ser usado para varrer o df\n",
        "#Definição de variáveis\n",
        "i = 0\n",
        "\n",
        "#Enquanto existir amostras a serem trabalhadas, vai continuar no laço\n",
        "while i < len(teste.index):\n",
        "  #saida_d = (ru*peso)-FI\n",
        "  teste.loc[i, 'saida_d'] = (teste.loc[i, 'ru']*peso)-FI\n",
        "  #resp_f = se (saida_d >= 0) então '1', se não, '-1'\n",
        "  if(teste.loc[i, 'saida_d'] >= 0):\n",
        "    teste.loc[i, 'resp_f'] = ATIVACAO[1]\n",
        "  else:\n",
        "    teste.loc[i, 'resp_f'] = ATIVACAO[0]\n",
        "  #class_atual = se (resp_f >= 0) então 'A', se não, 'B'\n",
        "  if(teste.loc[i, 'resp_f'] == 1):\n",
        "    teste.loc[i, 'class_atual'] = 'A'\n",
        "  else:\n",
        "    teste.loc[i, 'class_atual'] = 'B'\n",
        "  i += 1\n"
      ]
    },
    {
      "cell_type": "code",
      "execution_count": null,
      "metadata": {
        "colab": {
          "base_uri": "https://localhost:8080/",
          "height": 278
        },
        "id": "Pe1Azq-wQq6Z",
        "outputId": "10dfd5ad-1c17-464c-a159-41b163026032"
      },
      "outputs": [
        {
          "data": {
            "image/png": "[encoded data removed]",
            "text/plain": [
              "<Figure size 432x288 with 1 Axes>"
            ]
          },
          "metadata": {
            "needs_background": "light"
          },
          "output_type": "display_data"
        }
      ],
      "source": [
        "plt.scatter(teste['ru'], teste['class_atual'], color='#0ff', s=300, alpha=0.5)\n",
        "plt.show()"
      ]
    }
  ],
  "metadata": {
    "colab": {
      "collapsed_sections": [],
      "provenance": []
    },
    "kernelspec": {
      "display_name": "Python 3.10.4 64-bit",
      "language": "python",
      "name": "python3"
    },
    "language_info": {
      "name": "python",
      "version": "3.10.4"
    },
    "vscode": {
      "interpreter": {
        "hash": "2ff5d0e75b39a7fa9166b5c5ea3d247ab2556e9861bf257f3064725783e06bc2"
      }
    }
  },
  "nbformat": 4,
  "nbformat_minor": 0
}
